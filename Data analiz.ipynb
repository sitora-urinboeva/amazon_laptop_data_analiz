{
 "cells": [
  {
   "cell_type": "code",
   "id": "initial_id",
   "metadata": {
    "collapsed": true,
    "ExecuteTime": {
     "end_time": "2025-08-29T14:09:25.732152Z",
     "start_time": "2025-08-29T14:09:25.383757Z"
    }
   },
   "source": [
    "import pandas as pd\n",
    "\n",
    "df = pd.read_csv('laptops_amazon.csv')\n",
    "df.info()"
   ],
   "outputs": [
    {
     "name": "stdout",
     "output_type": "stream",
     "text": [
      "<class 'pandas.core.frame.DataFrame'>\n",
      "RangeIndex: 97 entries, 0 to 96\n",
      "Data columns (total 12 columns):\n",
      " #   Column                    Non-Null Count  Dtype \n",
      "---  ------                    --------------  ----- \n",
      " 0   Unnamed: 0                97 non-null     int64 \n",
      " 1   Brand                     97 non-null     object\n",
      " 2   Model Name                97 non-null     object\n",
      " 3   Screen Size               97 non-null     object\n",
      " 4   RAM                       88 non-null     object\n",
      " 5   Storage                   97 non-null     object\n",
      " 6   CPU                       96 non-null     object\n",
      " 7   Operating System          97 non-null     object\n",
      " 8   Price                     97 non-null     object\n",
      " 9   Rating                    97 non-null     object\n",
      " 10  Review Count              97 non-null     object\n",
      " 11  Graphic Card Description  97 non-null     object\n",
      "dtypes: int64(1), object(11)\n",
      "memory usage: 9.2+ KB\n"
     ]
    }
   ],
   "execution_count": 1
  },
  {
   "metadata": {
    "ExecuteTime": {
     "end_time": "2025-08-29T14:09:56.741596Z",
     "start_time": "2025-08-29T14:09:56.733090Z"
    }
   },
   "cell_type": "code",
   "source": [
    "df.drop(columns=['Unnamed: 0'], inplace=True)\n",
    "df.info()"
   ],
   "id": "b02cf73ef8d324ce",
   "outputs": [
    {
     "name": "stdout",
     "output_type": "stream",
     "text": [
      "<class 'pandas.core.frame.DataFrame'>\n",
      "RangeIndex: 97 entries, 0 to 96\n",
      "Data columns (total 11 columns):\n",
      " #   Column                    Non-Null Count  Dtype \n",
      "---  ------                    --------------  ----- \n",
      " 0   Brand                     97 non-null     object\n",
      " 1   Model Name                97 non-null     object\n",
      " 2   Screen Size               97 non-null     object\n",
      " 3   RAM                       88 non-null     object\n",
      " 4   Storage                   97 non-null     object\n",
      " 5   CPU                       96 non-null     object\n",
      " 6   Operating System          97 non-null     object\n",
      " 7   Price                     97 non-null     object\n",
      " 8   Rating                    97 non-null     object\n",
      " 9   Review Count              97 non-null     object\n",
      " 10  Graphic Card Description  97 non-null     object\n",
      "dtypes: object(11)\n",
      "memory usage: 8.5+ KB\n"
     ]
    }
   ],
   "execution_count": 2
  },
  {
   "metadata": {
    "ExecuteTime": {
     "end_time": "2025-08-29T14:10:21.071867Z",
     "start_time": "2025-08-29T14:10:21.068343Z"
    }
   },
   "cell_type": "code",
   "source": [
    "def clear_ram(x):\n",
    "    x = str(x).strip()\n",
    "    if x == \"No RAM\":\n",
    "        return 0\n",
    "    elif 'GB' in x:\n",
    "        result = x.replace('GB', '').replace('Gb', '').strip()\n",
    "        return int(result)\n",
    "    else:\n",
    "        return 0\n",
    "\n",
    "\n",
    "df['RAM'] = df['RAM'].apply(clear_ram)"
   ],
   "id": "ffcece03b33ff583",
   "outputs": [],
   "execution_count": 3
  },
  {
   "metadata": {
    "ExecuteTime": {
     "end_time": "2025-08-29T14:12:40.993459Z",
     "start_time": "2025-08-29T14:12:40.989011Z"
    }
   },
   "cell_type": "code",
   "source": [
    "def clear_graphic(x):\n",
    "    x = str(x).strip()\n",
    "    if x == 'No graphic card description':\n",
    "        return 0\n",
    "    elif x == 'Integrated':\n",
    "        return 1\n",
    "    else:\n",
    "        return 2\n",
    "\n",
    "\n",
    "df['Graphic Card Description'] = df['Graphic Card Description'].apply(clear_graphic)"
   ],
   "id": "4acd566bc6d03c20",
   "outputs": [],
   "execution_count": 6
  },
  {
   "metadata": {
    "ExecuteTime": {
     "end_time": "2025-08-29T14:12:45.594348Z",
     "start_time": "2025-08-29T14:12:45.591173Z"
    }
   },
   "cell_type": "code",
   "source": [
    "def clean_review(x):\n",
    "    x = str(x).strip()\n",
    "    if x == 'No review count':\n",
    "        return 0\n",
    "    x = x.replace('ratings', '').replace(',', '').strip()\n",
    "    try:\n",
    "        return int(x)\n",
    "    except:\n",
    "        return 0\n",
    "\n",
    "df['Review Count'] = df['Review Count'].apply(clean_review)"
   ],
   "id": "2f85e9cde8f0d657",
   "outputs": [],
   "execution_count": 7
  },
  {
   "metadata": {
    "ExecuteTime": {
     "end_time": "2025-08-29T14:13:23.210384Z",
     "start_time": "2025-08-29T14:13:23.206386Z"
    }
   },
   "cell_type": "code",
   "source": [
    "def clear_rating(x):\n",
    "    x = str(x).strip()\n",
    "    if x == \"No rating\":\n",
    "        return 0\n",
    "    try:\n",
    "        return float(x)\n",
    "    except:\n",
    "        return 0\n",
    "\n",
    "\n",
    "df['Rating'] = df['Rating'].apply(clear_rating)\n"
   ],
   "id": "f8de1efd8df7f0b4",
   "outputs": [],
   "execution_count": 8
  },
  {
   "metadata": {
    "ExecuteTime": {
     "end_time": "2025-08-29T14:13:27.548910Z",
     "start_time": "2025-08-29T14:13:27.545820Z"
    }
   },
   "cell_type": "code",
   "source": [
    "\n",
    "df['CPU'] = df['CPU'].fillna('Ryzen 3')"
   ],
   "id": "14b2e61e058d8658",
   "outputs": [],
   "execution_count": 9
  },
  {
   "metadata": {
    "ExecuteTime": {
     "end_time": "2025-08-29T14:13:43.696382Z",
     "start_time": "2025-08-29T14:13:43.692524Z"
    }
   },
   "cell_type": "code",
   "source": [
    "def clear_price(x):\n",
    "    x = str(x).strip()\n",
    "    if x == \"No price\":\n",
    "        return 0\n",
    "    x = x.replace(',', '').strip()\n",
    "    try:\n",
    "        return int(x)\n",
    "    except:\n",
    "        return 0\n",
    "\n",
    "\n",
    "df['Price'] = df['Price'].apply(clear_price)"
   ],
   "id": "20ca877d1b135364",
   "outputs": [],
   "execution_count": 10
  },
  {
   "metadata": {
    "ExecuteTime": {
     "end_time": "2025-08-29T14:13:58.920422Z",
     "start_time": "2025-08-29T14:13:58.915638Z"
    }
   },
   "cell_type": "code",
   "source": [
    "def clear_os(x):\n",
    "    x = str(x).strip()\n",
    "    if x == \"No operating system\":\n",
    "        return 0\n",
    "    elif 'Window 11' in x:\n",
    "        return 11\n",
    "    elif 'Windows' in x:\n",
    "        return 10\n",
    "    elif 'macOS' in x:\n",
    "        return 2\n",
    "    else:\n",
    "        return 1\n",
    "\n",
    "\n",
    "df['Operating System'] = df['Operating System'].apply(clear_os)"
   ],
   "id": "c9b20ff4f1afb32f",
   "outputs": [],
   "execution_count": 11
  },
  {
   "metadata": {
    "ExecuteTime": {
     "end_time": "2025-08-29T14:14:23.403207Z",
     "start_time": "2025-08-29T14:14:23.398192Z"
    }
   },
   "cell_type": "code",
   "source": [
    "def clear_cpu(x):\n",
    "    x = str(x).strip()\n",
    "    if x == \"No CPU\":\n",
    "        return 0\n",
    "    elif 'i3' in x or 'Ryzen 3' in x:\n",
    "        return 3\n",
    "    elif 'i5' in x or 'Ryzen 5' in x or 'Ultra 5' in x:\n",
    "        return 5\n",
    "    elif 'i7' in x or 'Ryzen 7' in x:\n",
    "        return 7\n",
    "    elif 'i9' in x or 'Ryzen 9' in x:\n",
    "        return 9\n",
    "    else:\n",
    "        return 1\n",
    "\n",
    "\n",
    "df['CPU'] = df['CPU'].apply(clear_cpu)"
   ],
   "id": "fd7799aaae3e9296",
   "outputs": [],
   "execution_count": 12
  },
  {
   "metadata": {
    "ExecuteTime": {
     "end_time": "2025-08-29T14:21:37.302475Z",
     "start_time": "2025-08-29T14:21:37.297938Z"
    }
   },
   "cell_type": "code",
   "source": [
    "def clear_storage(x):\n",
    "    if pd.isnull(x):\n",
    "        return 0\n",
    "    if isinstance(x, (int, float)):\n",
    "        return int(x)\n",
    "\n",
    "    x = str(x).strip()\n",
    "\n",
    "    if x == 'No storage':\n",
    "        return 0\n",
    "    elif 'TB' in x:\n",
    "        result = x.replace('TB', '').replace('Tb', '').strip()\n",
    "        return int(float(result) * 1024)\n",
    "    elif 'GB' in x or 'Gb' in x:\n",
    "        result = x.replace('GB', '').replace('Gb', '').strip()\n",
    "        return int(float(result))\n",
    "    else:\n",
    "\n",
    "        try:\n",
    "            return int(float(x))\n",
    "        except ValueError:\n",
    "            return 0\n",
    "\n",
    "df['Storage'] = df['Storage'].apply(clear_storage)"
   ],
   "id": "738292099fb3d89b",
   "outputs": [],
   "execution_count": 13
  },
  {
   "metadata": {
    "ExecuteTime": {
     "end_time": "2025-08-29T14:24:33.963789Z",
     "start_time": "2025-08-29T14:24:33.958203Z"
    }
   },
   "cell_type": "code",
   "source": [
    "def clear_screen(x):\n",
    "    if pd.isnull(x):\n",
    "        return 0\n",
    "    if isinstance(x, (int, float)):\n",
    "        return round(float(x), 2)\n",
    "    x = str(x).strip()\n",
    "\n",
    "    if 'Centimetres' in x or 'Centimeters' in x:\n",
    "        result = float(x.replace('Centimetres', '').replace('Centimeters', '').strip())\n",
    "        result = result / 2.54  # convert to inches\n",
    "        return round(result, 2)\n",
    "    elif 'Inches' in x:\n",
    "        result = float(x.replace('Inches', '').strip())\n",
    "        return round(result, 2)\n",
    "    else:\n",
    "\n",
    "        try:\n",
    "            result = float(x)\n",
    "            return round(result, 2)\n",
    "        except ValueError:\n",
    "\n",
    "          return 0\n",
    "\n",
    "df['Screen Size'] = df['Screen Size'].apply(clear_screen)"
   ],
   "id": "360781909cc9138",
   "outputs": [],
   "execution_count": 15
  },
  {
   "metadata": {
    "ExecuteTime": {
     "end_time": "2025-08-29T14:24:54.267800Z",
     "start_time": "2025-08-29T14:24:54.259999Z"
    }
   },
   "cell_type": "code",
   "source": [
    "df.info()\n",
    "df.to_csv(\"cleaned_data.csv\", index=False)\n",
    "\n",
    "print(\"Cleaned CSV file saved\")"
   ],
   "id": "5cbec9c0f1f59f85",
   "outputs": [
    {
     "name": "stdout",
     "output_type": "stream",
     "text": [
      "<class 'pandas.core.frame.DataFrame'>\n",
      "RangeIndex: 97 entries, 0 to 96\n",
      "Data columns (total 11 columns):\n",
      " #   Column                    Non-Null Count  Dtype  \n",
      "---  ------                    --------------  -----  \n",
      " 0   Brand                     97 non-null     object \n",
      " 1   Model Name                97 non-null     object \n",
      " 2   Screen Size               97 non-null     float64\n",
      " 3   RAM                       97 non-null     int64  \n",
      " 4   Storage                   97 non-null     int64  \n",
      " 5   CPU                       97 non-null     int64  \n",
      " 6   Operating System          97 non-null     int64  \n",
      " 7   Price                     97 non-null     int64  \n",
      " 8   Rating                    97 non-null     float64\n",
      " 9   Review Count              97 non-null     int64  \n",
      " 10  Graphic Card Description  97 non-null     int64  \n",
      "dtypes: float64(2), int64(7), object(2)\n",
      "memory usage: 8.5+ KB\n",
      "Cleaned CSV file saved\n"
     ]
    }
   ],
   "execution_count": 16
  },
  {
   "metadata": {},
   "cell_type": "code",
   "outputs": [],
   "execution_count": null,
   "source": "",
   "id": "8ac2a72eec84fd4a"
  }
 ],
 "metadata": {
  "kernelspec": {
   "display_name": "Python 3",
   "language": "python",
   "name": "python3"
  },
  "language_info": {
   "codemirror_mode": {
    "name": "ipython",
    "version": 2
   },
   "file_extension": ".py",
   "mimetype": "text/x-python",
   "name": "python",
   "nbconvert_exporter": "python",
   "pygments_lexer": "ipython2",
   "version": "2.7.6"
  }
 },
 "nbformat": 4,
 "nbformat_minor": 5
}
