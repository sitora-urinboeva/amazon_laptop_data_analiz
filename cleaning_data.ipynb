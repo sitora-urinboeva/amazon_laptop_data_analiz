import pandas as pd

df = pd.read_csv('laptops_amazon.csv')
df.info()
df.drop(columns=['Unnamed: 0'], inplace=True)
df.info()
def clear_ram(x):
    x = str(x).strip()
    if x == "No RAM":
        return 0
    elif 'GB' in x:
        result = x.replace('GB', '').replace('Gb', '').strip()
        return int(result)
    else:
        return 0


df['RAM'] = df['RAM'].apply(clear_ram)
def clear_graphic(x):
    x = str(x).strip()
    if x == 'No graphic card description':
        return 0
    elif x == 'Integrated':
        return 1
    else:
        return 2


df['Graphic Card Description'] = df['Graphic Card Description'].apply(clear_graphic)
def clean_review(x):
    x = str(x).strip()
    if x == 'No review count':
        return 0
    x = x.replace('ratings', '').replace(',', '').strip()
    try:
        return int(x)
    except:
        return 0

df['Review Count'] = df['Review Count'].apply(clean_review)
def clear_rating(x):
    x = str(x).strip()
    if x == "No rating":
        return 0
    try:
        return float(x)
    except:
        return 0


df['Rating'] = df['Rating'].apply(clear_rating)
df['CPU'] = df['CPU'].fillna('Ryzen 3')

def clear_price(x):
    x = str(x).strip()
    if x == "No price":
        return 0
    x = x.replace(',', '').strip()
    try:
        return int(x)
    except:
        return 0


df['Price'] = df['Price'].apply(clear_price)
def clear_os(x):
    x = str(x).strip()
    if x == "No operating system":
        return 0
    elif 'Window 11' in x:
        return 11
    elif 'Windows' in x:
        return 10
    elif 'macOS' in x:
        return 2
    else:
        return 1


df['Operating System'] = df['Operating System'].apply(clear_os)

def clear_cpu(x):
    x = str(x).strip()
    if x == "No CPU":
        return 0
    elif 'i3' in x or 'Ryzen 3' in x:
        return 3
    elif 'i5' in x or 'Ryzen 5' in x or 'Ultra 5' in x:
        return 5
    elif 'i7' in x or 'Ryzen 7' in x:
        return 7
    elif 'i9' in x or 'Ryzen 9' in x:
        return 9
    else:
        return 1


df['CPU'] = df['CPU'].apply(clear_cpu)

def clear_storage(x):
    if pd.isnull(x):
        return 0
    if isinstance(x, (int, float)):
        return int(x)

    x = str(x).strip()

    if x == 'No storage':
        return 0
    elif 'TB' in x:
        result = x.replace('TB', '').replace('Tb', '').strip()
        return int(float(result) * 1024)
    elif 'GB' in x or 'Gb' in x:
        result = x.replace('GB', '').replace('Gb', '').strip()
        return int(float(result))
    else:

        try:
            return int(float(x))
        except ValueError:
            return 0

df['Storage'] = df['Storage'].apply(clear_storage)

def clear_screen(x):
    if pd.isnull(x):
        return 0
    if isinstance(x, (int, float)):
        return round(float(x), 2)
    x = str(x).strip()

    if 'Centimetres' in x or 'Centimeters' in x:
        result = float(x.replace('Centimetres', '').replace('Centimeters', '').strip())
        result = result / 2.54  # convert to inches
        return round(result, 2)
    elif 'Inches' in x:
        result = float(x.replace('Inches', '').strip())
        return round(result, 2)
    else:

        try:
            result = float(x)
            return round(result, 2)
        except ValueError:

          return 0

df['Screen Size'] = df['Screen Size'].apply(clear_screen)

df.info()
df.to_csv("cleaned_data.csv", index=False)

print("Cleaned CSV file saved")
